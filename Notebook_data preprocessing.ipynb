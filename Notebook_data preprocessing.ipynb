{
  "cells": [
    {
      "cell_type": "code",
      "source": [
        "import numpy as np\n",
        "import pandas as pd\n",
        "\n",
        "import sklearn\n",
        "from sklearn.model_selection import train_test_split\n",
        "from sklearn.metrics import accuracy_score, classification_report, confusion_matrix\n",
        "from sklearn.preprocessing import RobustScaler\n",
        "from sklearn.preprocessing import LabelEncoder\n",
        "\n",
        "from imblearn import under_sampling, over_sampling\n",
        "from imblearn.over_sampling import SMOTENC"
      ],
      "outputs": [],
      "execution_count": 1,
      "metadata": {
        "gather": {
          "logged": 1718042177145
        }
      }
    },
    {
      "cell_type": "code",
      "source": [
        "from sklearn.preprocessing import LabelEncoder\n",
        "from keras.utils import to_categorical"
      ],
      "outputs": [
        {
          "output_type": "stream",
          "name": "stderr",
          "text": "2024-06-10 17:56:17.251486: I tensorflow/core/platform/cpu_feature_guard.cc:193] This TensorFlow binary is optimized with oneAPI Deep Neural Network Library (oneDNN) to use the following CPU instructions in performance-critical operations:  AVX2 AVX512F FMA\nTo enable them in other operations, rebuild TensorFlow with the appropriate compiler flags.\n2024-06-10 17:56:20.710911: W tensorflow/compiler/xla/stream_executor/platform/default/dso_loader.cc:64] Could not load dynamic library 'libcudart.so.11.0'; dlerror: libcudart.so.11.0: cannot open shared object file: No such file or directory\n2024-06-10 17:56:20.710943: I tensorflow/compiler/xla/stream_executor/cuda/cudart_stub.cc:29] Ignore above cudart dlerror if you do not have a GPU set up on your machine.\n2024-06-10 17:56:27.168548: W tensorflow/compiler/xla/stream_executor/platform/default/dso_loader.cc:64] Could not load dynamic library 'libnvinfer.so.7'; dlerror: libnvinfer.so.7: cannot open shared object file: No such file or directory\n2024-06-10 17:56:27.168906: W tensorflow/compiler/xla/stream_executor/platform/default/dso_loader.cc:64] Could not load dynamic library 'libnvinfer_plugin.so.7'; dlerror: libnvinfer_plugin.so.7: cannot open shared object file: No such file or directory\n2024-06-10 17:56:27.168935: W tensorflow/compiler/tf2tensorrt/utils/py_utils.cc:38] TF-TRT Warning: Cannot dlopen some TensorRT libraries. If you would like to use Nvidia GPU with TensorRT, please make sure the missing libraries mentioned above are installed properly.\n"
        }
      ],
      "execution_count": 2,
      "metadata": {
        "jupyter": {
          "source_hidden": false,
          "outputs_hidden": false
        },
        "nteract": {
          "transient": {
            "deleting": false
          }
        },
        "gather": {
          "logged": 1718042192023
        }
      }
    },
    {
      "cell_type": "code",
      "source": [
        "df = pd.read_csv(\"./dataset_esi_with_chief_complaint.csv\")\n",
        "df.info()"
      ],
      "outputs": [
        {
          "output_type": "stream",
          "name": "stdout",
          "text": "<class 'pandas.core.frame.DataFrame'>\nRangeIndex: 560486 entries, 0 to 560485\nColumns: 212 entries, age to cc_wristpain\ndtypes: float64(209), object(3)\nmemory usage: 906.5+ MB\n"
        }
      ],
      "execution_count": 3,
      "metadata": {
        "jupyter": {
          "source_hidden": false,
          "outputs_hidden": false
        },
        "nteract": {
          "transient": {
            "deleting": false
          }
        },
        "gather": {
          "logged": 1718042198819
        }
      }
    },
    {
      "cell_type": "code",
      "source": [
        "df.sample(10)"
      ],
      "outputs": [
        {
          "output_type": "execute_result",
          "execution_count": 4,
          "data": {
            "text/plain": "         age  gender dep_name arrivalmode  triage_vital_hr  triage_vital_sbp  \\\n355640  52.0  Female        A         Car             70.0             131.0   \n155484  21.0    Male        A   ambulance             96.0             136.0   \n164043  32.0    Male        C         Car             99.0             138.0   \n98956   34.0  Female        A   ambulance              NaN               NaN   \n558829  90.0  Female        A   ambulance             56.0             169.0   \n288896  18.0    Male        A   ambulance            100.0             116.0   \n239073  88.0  Female        B   ambulance              NaN               NaN   \n120140  22.0  Female        A         Car             78.0             131.0   \n112747  31.0  Female        A     Walk-in             78.0             118.0   \n143481  52.0    Male        B     Walk-in            104.0             123.0   \n\n        triage_vital_dbp  triage_vital_rr  triage_vital_o2  \\\n355640              75.0             16.0              NaN   \n155484              77.0             16.0             98.0   \n164043              88.0              NaN              NaN   \n98956                NaN              NaN              NaN   \n558829              76.0             14.0             99.0   \n288896              78.0             20.0              NaN   \n239073               NaN              NaN              NaN   \n120140              74.0             18.0             99.0   \n112747              82.0             18.0             99.0   \n143481              71.0             20.0             97.0   \n\n        triage_vital_o2_device  ...  cc_vaginaldischarge  cc_vaginalpain  \\\n355640                     NaN  ...                  0.0             0.0   \n155484                     0.0  ...                  0.0             0.0   \n164043                     0.0  ...                  0.0             0.0   \n98956                      NaN  ...                  0.0             0.0   \n558829                     0.0  ...                  0.0             0.0   \n288896                     0.0  ...                  0.0             0.0   \n239073                     NaN  ...                  0.0             0.0   \n120140                     0.0  ...                  0.0             0.0   \n112747                     0.0  ...                  0.0             0.0   \n143481                     0.0  ...                  0.0             0.0   \n\n        cc_weakness  cc_wheezing  cc_withdrawal-alcohol  cc_woundcheck  \\\n355640          0.0          0.0                    0.0            0.0   \n155484          0.0          0.0                    0.0            0.0   \n164043          0.0          0.0                    0.0            0.0   \n98956           0.0          0.0                    0.0            0.0   \n558829          0.0          0.0                    0.0            0.0   \n288896          0.0          0.0                    0.0            0.0   \n239073          0.0          0.0                    0.0            0.0   \n120140          0.0          0.0                    0.0            0.0   \n112747          0.0          0.0                    0.0            0.0   \n143481          0.0          0.0                    0.0            0.0   \n\n        cc_woundinfection  cc_woundre-evaluation  cc_wristinjury  cc_wristpain  \n355640                0.0                    0.0             0.0           0.0  \n155484                0.0                    0.0             0.0           0.0  \n164043                0.0                    0.0             0.0           0.0  \n98956                 0.0                    0.0             0.0           0.0  \n558829                0.0                    0.0             0.0           0.0  \n288896                0.0                    0.0             0.0           0.0  \n239073                0.0                    0.0             0.0           0.0  \n120140                0.0                    0.0             0.0           0.0  \n112747                0.0                    0.0             0.0           0.0  \n143481                0.0                    0.0             0.0           0.0  \n\n[10 rows x 212 columns]",
            "text/html": "<div>\n<style scoped>\n    .dataframe tbody tr th:only-of-type {\n        vertical-align: middle;\n    }\n\n    .dataframe tbody tr th {\n        vertical-align: top;\n    }\n\n    .dataframe thead th {\n        text-align: right;\n    }\n</style>\n<table border=\"1\" class=\"dataframe\">\n  <thead>\n    <tr style=\"text-align: right;\">\n      <th></th>\n      <th>age</th>\n      <th>gender</th>\n      <th>dep_name</th>\n      <th>arrivalmode</th>\n      <th>triage_vital_hr</th>\n      <th>triage_vital_sbp</th>\n      <th>triage_vital_dbp</th>\n      <th>triage_vital_rr</th>\n      <th>triage_vital_o2</th>\n      <th>triage_vital_o2_device</th>\n      <th>...</th>\n      <th>cc_vaginaldischarge</th>\n      <th>cc_vaginalpain</th>\n      <th>cc_weakness</th>\n      <th>cc_wheezing</th>\n      <th>cc_withdrawal-alcohol</th>\n      <th>cc_woundcheck</th>\n      <th>cc_woundinfection</th>\n      <th>cc_woundre-evaluation</th>\n      <th>cc_wristinjury</th>\n      <th>cc_wristpain</th>\n    </tr>\n  </thead>\n  <tbody>\n    <tr>\n      <th>355640</th>\n      <td>52.0</td>\n      <td>Female</td>\n      <td>A</td>\n      <td>Car</td>\n      <td>70.0</td>\n      <td>131.0</td>\n      <td>75.0</td>\n      <td>16.0</td>\n      <td>NaN</td>\n      <td>NaN</td>\n      <td>...</td>\n      <td>0.0</td>\n      <td>0.0</td>\n      <td>0.0</td>\n      <td>0.0</td>\n      <td>0.0</td>\n      <td>0.0</td>\n      <td>0.0</td>\n      <td>0.0</td>\n      <td>0.0</td>\n      <td>0.0</td>\n    </tr>\n    <tr>\n      <th>155484</th>\n      <td>21.0</td>\n      <td>Male</td>\n      <td>A</td>\n      <td>ambulance</td>\n      <td>96.0</td>\n      <td>136.0</td>\n      <td>77.0</td>\n      <td>16.0</td>\n      <td>98.0</td>\n      <td>0.0</td>\n      <td>...</td>\n      <td>0.0</td>\n      <td>0.0</td>\n      <td>0.0</td>\n      <td>0.0</td>\n      <td>0.0</td>\n      <td>0.0</td>\n      <td>0.0</td>\n      <td>0.0</td>\n      <td>0.0</td>\n      <td>0.0</td>\n    </tr>\n    <tr>\n      <th>164043</th>\n      <td>32.0</td>\n      <td>Male</td>\n      <td>C</td>\n      <td>Car</td>\n      <td>99.0</td>\n      <td>138.0</td>\n      <td>88.0</td>\n      <td>NaN</td>\n      <td>NaN</td>\n      <td>0.0</td>\n      <td>...</td>\n      <td>0.0</td>\n      <td>0.0</td>\n      <td>0.0</td>\n      <td>0.0</td>\n      <td>0.0</td>\n      <td>0.0</td>\n      <td>0.0</td>\n      <td>0.0</td>\n      <td>0.0</td>\n      <td>0.0</td>\n    </tr>\n    <tr>\n      <th>98956</th>\n      <td>34.0</td>\n      <td>Female</td>\n      <td>A</td>\n      <td>ambulance</td>\n      <td>NaN</td>\n      <td>NaN</td>\n      <td>NaN</td>\n      <td>NaN</td>\n      <td>NaN</td>\n      <td>NaN</td>\n      <td>...</td>\n      <td>0.0</td>\n      <td>0.0</td>\n      <td>0.0</td>\n      <td>0.0</td>\n      <td>0.0</td>\n      <td>0.0</td>\n      <td>0.0</td>\n      <td>0.0</td>\n      <td>0.0</td>\n      <td>0.0</td>\n    </tr>\n    <tr>\n      <th>558829</th>\n      <td>90.0</td>\n      <td>Female</td>\n      <td>A</td>\n      <td>ambulance</td>\n      <td>56.0</td>\n      <td>169.0</td>\n      <td>76.0</td>\n      <td>14.0</td>\n      <td>99.0</td>\n      <td>0.0</td>\n      <td>...</td>\n      <td>0.0</td>\n      <td>0.0</td>\n      <td>0.0</td>\n      <td>0.0</td>\n      <td>0.0</td>\n      <td>0.0</td>\n      <td>0.0</td>\n      <td>0.0</td>\n      <td>0.0</td>\n      <td>0.0</td>\n    </tr>\n    <tr>\n      <th>288896</th>\n      <td>18.0</td>\n      <td>Male</td>\n      <td>A</td>\n      <td>ambulance</td>\n      <td>100.0</td>\n      <td>116.0</td>\n      <td>78.0</td>\n      <td>20.0</td>\n      <td>NaN</td>\n      <td>0.0</td>\n      <td>...</td>\n      <td>0.0</td>\n      <td>0.0</td>\n      <td>0.0</td>\n      <td>0.0</td>\n      <td>0.0</td>\n      <td>0.0</td>\n      <td>0.0</td>\n      <td>0.0</td>\n      <td>0.0</td>\n      <td>0.0</td>\n    </tr>\n    <tr>\n      <th>239073</th>\n      <td>88.0</td>\n      <td>Female</td>\n      <td>B</td>\n      <td>ambulance</td>\n      <td>NaN</td>\n      <td>NaN</td>\n      <td>NaN</td>\n      <td>NaN</td>\n      <td>NaN</td>\n      <td>NaN</td>\n      <td>...</td>\n      <td>0.0</td>\n      <td>0.0</td>\n      <td>0.0</td>\n      <td>0.0</td>\n      <td>0.0</td>\n      <td>0.0</td>\n      <td>0.0</td>\n      <td>0.0</td>\n      <td>0.0</td>\n      <td>0.0</td>\n    </tr>\n    <tr>\n      <th>120140</th>\n      <td>22.0</td>\n      <td>Female</td>\n      <td>A</td>\n      <td>Car</td>\n      <td>78.0</td>\n      <td>131.0</td>\n      <td>74.0</td>\n      <td>18.0</td>\n      <td>99.0</td>\n      <td>0.0</td>\n      <td>...</td>\n      <td>0.0</td>\n      <td>0.0</td>\n      <td>0.0</td>\n      <td>0.0</td>\n      <td>0.0</td>\n      <td>0.0</td>\n      <td>0.0</td>\n      <td>0.0</td>\n      <td>0.0</td>\n      <td>0.0</td>\n    </tr>\n    <tr>\n      <th>112747</th>\n      <td>31.0</td>\n      <td>Female</td>\n      <td>A</td>\n      <td>Walk-in</td>\n      <td>78.0</td>\n      <td>118.0</td>\n      <td>82.0</td>\n      <td>18.0</td>\n      <td>99.0</td>\n      <td>0.0</td>\n      <td>...</td>\n      <td>0.0</td>\n      <td>0.0</td>\n      <td>0.0</td>\n      <td>0.0</td>\n      <td>0.0</td>\n      <td>0.0</td>\n      <td>0.0</td>\n      <td>0.0</td>\n      <td>0.0</td>\n      <td>0.0</td>\n    </tr>\n    <tr>\n      <th>143481</th>\n      <td>52.0</td>\n      <td>Male</td>\n      <td>B</td>\n      <td>Walk-in</td>\n      <td>104.0</td>\n      <td>123.0</td>\n      <td>71.0</td>\n      <td>20.0</td>\n      <td>97.0</td>\n      <td>0.0</td>\n      <td>...</td>\n      <td>0.0</td>\n      <td>0.0</td>\n      <td>0.0</td>\n      <td>0.0</td>\n      <td>0.0</td>\n      <td>0.0</td>\n      <td>0.0</td>\n      <td>0.0</td>\n      <td>0.0</td>\n      <td>0.0</td>\n    </tr>\n  </tbody>\n</table>\n<p>10 rows × 212 columns</p>\n</div>"
          },
          "metadata": {}
        }
      ],
      "execution_count": 4,
      "metadata": {
        "jupyter": {
          "source_hidden": false,
          "outputs_hidden": false
        },
        "nteract": {
          "transient": {
            "deleting": false
          }
        },
        "gather": {
          "logged": 1718042198984
        }
      }
    },
    {
      "cell_type": "code",
      "source": [
        "# Are there any null values?\n",
        "df.isnull().values.any()"
      ],
      "outputs": [
        {
          "output_type": "execute_result",
          "execution_count": 5,
          "data": {
            "text/plain": "True"
          },
          "metadata": {}
        }
      ],
      "execution_count": 5,
      "metadata": {
        "jupyter": {
          "source_hidden": false,
          "outputs_hidden": false
        },
        "nteract": {
          "transient": {
            "deleting": false
          }
        },
        "gather": {
          "logged": 1718042199213
        }
      }
    },
    {
      "cell_type": "code",
      "source": [
        "def missing_values_table(dataframe):\n",
        "    variables_with_na = [col for col in dataframe.columns if dataframe[col].isnull().sum() > 0]\n",
        "    n_miss = dataframe[variables_with_na].isnull().sum().sort_values(ascending=False)\n",
        "    ratio = (dataframe[variables_with_na].isnull().sum() / dataframe.shape[0] * 100).sort_values(ascending=False)\n",
        "    missing_df = pd.concat([n_miss, np.round(ratio, 2)], axis=1, keys=['n_miss', 'ratio'])\n",
        "    print(missing_df)\n",
        "    return variables_with_na\n",
        "\n",
        "missing_values_table(df)"
      ],
      "outputs": [
        {
          "output_type": "stream",
          "name": "stdout",
          "text": "                        n_miss  ratio\ntriage_vital_o2         271317  48.41\ntriage_vital_o2_device  226855  40.47\ntriage_vital_temp       182985  32.65\ntriage_vital_rr         170487  30.42\ntriage_vital_dbp        168063  29.99\n...                        ...    ...\ncc_medicalproblem         2585   0.46\ncc_mass                   2585   0.46\ncc_maleguproblem          2585   0.46\nesi                       2457   0.44\nage                         11   0.00\n\n[210 rows x 2 columns]\n"
        },
        {
          "output_type": "execute_result",
          "execution_count": 6,
          "data": {
            "text/plain": "['age',\n 'arrivalmode',\n 'triage_vital_hr',\n 'triage_vital_sbp',\n 'triage_vital_dbp',\n 'triage_vital_rr',\n 'triage_vital_o2',\n 'triage_vital_o2_device',\n 'triage_vital_temp',\n 'esi',\n 'cc_abdominalcramping',\n 'cc_abdominaldistention',\n 'cc_abdominalpain',\n 'cc_abdominalpainpregnant',\n 'cc_abnormallab',\n 'cc_abscess',\n 'cc_addictionproblem',\n 'cc_agitation',\n 'cc_alcoholintoxication',\n 'cc_alcoholproblem',\n 'cc_allergicreaction',\n 'cc_alteredmentalstatus',\n 'cc_animalbite',\n 'cc_ankleinjury',\n 'cc_anklepain',\n 'cc_anxiety',\n 'cc_arminjury',\n 'cc_armpain',\n 'cc_armswelling',\n 'cc_assaultvictim',\n 'cc_asthma',\n 'cc_backpain',\n 'cc_bleeding/bruising',\n 'cc_blurredvision',\n 'cc_bodyfluidexposure',\n 'cc_breastpain',\n 'cc_breathingdifficulty',\n 'cc_breathingproblem',\n 'cc_burn',\n 'cc_cardiacarrest',\n 'cc_cellulitis',\n 'cc_chestpain',\n 'cc_chesttightness',\n 'cc_chills',\n 'cc_coldlikesymptoms',\n 'cc_confusion',\n 'cc_conjunctivitis',\n 'cc_constipation',\n 'cc_cough',\n 'cc_cyst',\n 'cc_decreasedbloodsugar-symptomatic',\n 'cc_dehydration',\n 'cc_dentalpain',\n 'cc_depression',\n 'cc_detoxevaluation',\n 'cc_diarrhea',\n 'cc_dizziness',\n 'cc_drug/alcoholassessment',\n 'cc_drugproblem',\n 'cc_dyspnea',\n 'cc_dysuria',\n 'cc_earpain',\n 'cc_earproblem',\n 'cc_edema',\n 'cc_elbowpain',\n 'cc_elevatedbloodsugar-nosymptoms',\n 'cc_elevatedbloodsugar-symptomatic',\n 'cc_emesis',\n 'cc_epigastricpain',\n 'cc_epistaxis',\n 'cc_exposuretostd',\n 'cc_extremitylaceration',\n 'cc_extremityweakness',\n 'cc_eyeinjury',\n 'cc_eyepain',\n 'cc_eyeproblem',\n 'cc_eyeredness',\n 'cc_facialinjury',\n 'cc_faciallaceration',\n 'cc_facialpain',\n 'cc_facialswelling',\n 'cc_fall',\n 'cc_fall>65',\n 'cc_fatigue',\n 'cc_femaleguproblem',\n 'cc_fever',\n 'cc_fever-75yearsorolder',\n 'cc_fever-9weeksto74years',\n 'cc_feverimmunocompromised',\n 'cc_fingerinjury',\n 'cc_fingerpain',\n 'cc_fingerswelling',\n 'cc_flankpain',\n 'cc_follow-upcellulitis',\n 'cc_footinjury',\n 'cc_footpain',\n 'cc_footswelling',\n 'cc_foreignbodyineye',\n 'cc_fulltrauma',\n 'cc_generalizedbodyaches',\n 'cc_gibleeding',\n 'cc_giproblem',\n 'cc_groinpain',\n 'cc_hallucinations',\n 'cc_handinjury',\n 'cc_handpain',\n 'cc_headache',\n 'cc_headache-newonsetornewsymptoms',\n 'cc_headache-recurrentorknowndxmigraines',\n 'cc_headachere-evaluation',\n 'cc_headinjury',\n 'cc_headlaceration',\n 'cc_hematuria',\n 'cc_hemoptysis',\n 'cc_hippain',\n 'cc_homicidal',\n 'cc_hyperglycemia',\n 'cc_hypertension',\n 'cc_hypotension',\n 'cc_influenza',\n 'cc_ingestion',\n 'cc_insectbite',\n 'cc_irregularheartbeat',\n 'cc_jawpain',\n 'cc_jointswelling',\n 'cc_kneeinjury',\n 'cc_kneepain',\n 'cc_laceration',\n 'cc_leginjury',\n 'cc_legpain',\n 'cc_legswelling',\n 'cc_lethargy',\n 'cc_lossofconsciousness',\n 'cc_maleguproblem',\n 'cc_mass',\n 'cc_medicalproblem',\n 'cc_medicalscreening',\n 'cc_medicationproblem',\n 'cc_medicationrefill',\n 'cc_migraine',\n 'cc_modifiedtrauma',\n 'cc_motorcyclecrash',\n 'cc_motorvehiclecrash',\n 'cc_multiplefalls',\n 'cc_nasalcongestion',\n 'cc_nausea',\n 'cc_nearsyncope',\n 'cc_neckpain',\n 'cc_neurologicproblem',\n 'cc_numbness',\n 'cc_oralswelling',\n 'cc_otalgia',\n 'cc_other',\n 'cc_overdose-accidental',\n 'cc_overdose-intentional',\n 'cc_pain',\n 'cc_palpitations',\n 'cc_panicattack',\n 'cc_pelvicpain',\n 'cc_poisoning',\n 'cc_post-opproblem',\n 'cc_psychiatricevaluation',\n 'cc_psychoticsymptoms',\n 'cc_rapidheartrate',\n 'cc_rash',\n 'cc_rectalbleeding',\n 'cc_rectalpain',\n 'cc_respiratorydistress',\n 'cc_ribinjury',\n 'cc_ribpain',\n 'cc_seizure-newonset',\n 'cc_seizure-priorhxof',\n 'cc_seizures',\n 'cc_shortnessofbreath',\n 'cc_shoulderinjury',\n 'cc_shoulderpain',\n 'cc_sicklecellpain',\n 'cc_sinusproblem',\n 'cc_skinirritation',\n 'cc_skinproblem',\n 'cc_sorethroat',\n 'cc_stdcheck',\n 'cc_strokealert',\n 'cc_suicidal',\n 'cc_suture/stapleremoval',\n 'cc_swallowedforeignbody',\n 'cc_syncope',\n 'cc_tachycardia',\n 'cc_testiclepain',\n 'cc_thumbinjury',\n 'cc_tickremoval',\n 'cc_toeinjury',\n 'cc_toepain',\n 'cc_trauma',\n 'cc_unresponsive',\n 'cc_uri',\n 'cc_urinaryfrequency',\n 'cc_urinaryretention',\n 'cc_urinarytractinfection',\n 'cc_vaginalbleeding',\n 'cc_vaginaldischarge',\n 'cc_vaginalpain',\n 'cc_weakness',\n 'cc_wheezing',\n 'cc_withdrawal-alcohol',\n 'cc_woundcheck',\n 'cc_woundinfection',\n 'cc_woundre-evaluation',\n 'cc_wristinjury',\n 'cc_wristpain']"
          },
          "metadata": {}
        }
      ],
      "execution_count": 6,
      "metadata": {
        "jupyter": {
          "source_hidden": false,
          "outputs_hidden": false
        },
        "nteract": {
          "transient": {
            "deleting": false
          }
        },
        "gather": {
          "logged": 1718042200802
        }
      }
    },
    {
      "cell_type": "code",
      "source": [
        "df = df.dropna()"
      ],
      "outputs": [],
      "execution_count": 7,
      "metadata": {
        "jupyter": {
          "source_hidden": false,
          "outputs_hidden": false
        },
        "nteract": {
          "transient": {
            "deleting": false
          }
        },
        "gather": {
          "logged": 1718042201531
        }
      }
    },
    {
      "cell_type": "code",
      "source": [
        "new_df = df.drop(['dep_name', 'arrivalmode'], axis=1)"
      ],
      "outputs": [],
      "execution_count": 8,
      "metadata": {
        "jupyter": {
          "source_hidden": false,
          "outputs_hidden": false
        },
        "nteract": {
          "transient": {
            "deleting": false
          }
        },
        "gather": {
          "logged": 1718042201675
        }
      }
    },
    {
      "cell_type": "code",
      "source": [
        "like_num = [col for col in new_df.columns if new_df[col].dtypes != 'O' and len(new_df[col].value_counts()) > 10]\n",
        "cols_need_scale = [col for col in new_df.columns if col not in like_num\n",
        "                   and col not in 'esi']\n",
        "\n",
        "print('like_num: ', like_num)\n",
        "print(\"cols_need_scale: \", cols_need_scale)"
      ],
      "outputs": [
        {
          "output_type": "stream",
          "name": "stdout",
          "text": "like_num:  ['age', 'triage_vital_hr', 'triage_vital_sbp', 'triage_vital_dbp', 'triage_vital_rr', 'triage_vital_o2', 'triage_vital_temp']\ncols_need_scale:  ['gender', 'triage_vital_o2_device', 'cc_abdominalcramping', 'cc_abdominaldistention', 'cc_abdominalpain', 'cc_abdominalpainpregnant', 'cc_abnormallab', 'cc_abscess', 'cc_addictionproblem', 'cc_agitation', 'cc_alcoholintoxication', 'cc_alcoholproblem', 'cc_allergicreaction', 'cc_alteredmentalstatus', 'cc_animalbite', 'cc_ankleinjury', 'cc_anklepain', 'cc_anxiety', 'cc_arminjury', 'cc_armpain', 'cc_armswelling', 'cc_assaultvictim', 'cc_asthma', 'cc_backpain', 'cc_bleeding/bruising', 'cc_blurredvision', 'cc_bodyfluidexposure', 'cc_breastpain', 'cc_breathingdifficulty', 'cc_breathingproblem', 'cc_burn', 'cc_cardiacarrest', 'cc_cellulitis', 'cc_chestpain', 'cc_chesttightness', 'cc_chills', 'cc_coldlikesymptoms', 'cc_confusion', 'cc_conjunctivitis', 'cc_constipation', 'cc_cough', 'cc_cyst', 'cc_decreasedbloodsugar-symptomatic', 'cc_dehydration', 'cc_dentalpain', 'cc_depression', 'cc_detoxevaluation', 'cc_diarrhea', 'cc_dizziness', 'cc_drug/alcoholassessment', 'cc_drugproblem', 'cc_dyspnea', 'cc_dysuria', 'cc_earpain', 'cc_earproblem', 'cc_edema', 'cc_elbowpain', 'cc_elevatedbloodsugar-nosymptoms', 'cc_elevatedbloodsugar-symptomatic', 'cc_emesis', 'cc_epigastricpain', 'cc_epistaxis', 'cc_exposuretostd', 'cc_extremitylaceration', 'cc_extremityweakness', 'cc_eyeinjury', 'cc_eyepain', 'cc_eyeproblem', 'cc_eyeredness', 'cc_facialinjury', 'cc_faciallaceration', 'cc_facialpain', 'cc_facialswelling', 'cc_fall', 'cc_fall>65', 'cc_fatigue', 'cc_femaleguproblem', 'cc_fever', 'cc_fever-75yearsorolder', 'cc_fever-9weeksto74years', 'cc_feverimmunocompromised', 'cc_fingerinjury', 'cc_fingerpain', 'cc_fingerswelling', 'cc_flankpain', 'cc_follow-upcellulitis', 'cc_footinjury', 'cc_footpain', 'cc_footswelling', 'cc_foreignbodyineye', 'cc_fulltrauma', 'cc_generalizedbodyaches', 'cc_gibleeding', 'cc_giproblem', 'cc_groinpain', 'cc_hallucinations', 'cc_handinjury', 'cc_handpain', 'cc_headache', 'cc_headache-newonsetornewsymptoms', 'cc_headache-recurrentorknowndxmigraines', 'cc_headachere-evaluation', 'cc_headinjury', 'cc_headlaceration', 'cc_hematuria', 'cc_hemoptysis', 'cc_hippain', 'cc_homicidal', 'cc_hyperglycemia', 'cc_hypertension', 'cc_hypotension', 'cc_influenza', 'cc_ingestion', 'cc_insectbite', 'cc_irregularheartbeat', 'cc_jawpain', 'cc_jointswelling', 'cc_kneeinjury', 'cc_kneepain', 'cc_laceration', 'cc_leginjury', 'cc_legpain', 'cc_legswelling', 'cc_lethargy', 'cc_lossofconsciousness', 'cc_maleguproblem', 'cc_mass', 'cc_medicalproblem', 'cc_medicalscreening', 'cc_medicationproblem', 'cc_medicationrefill', 'cc_migraine', 'cc_modifiedtrauma', 'cc_motorcyclecrash', 'cc_motorvehiclecrash', 'cc_multiplefalls', 'cc_nasalcongestion', 'cc_nausea', 'cc_nearsyncope', 'cc_neckpain', 'cc_neurologicproblem', 'cc_numbness', 'cc_oralswelling', 'cc_otalgia', 'cc_other', 'cc_overdose-accidental', 'cc_overdose-intentional', 'cc_pain', 'cc_palpitations', 'cc_panicattack', 'cc_pelvicpain', 'cc_poisoning', 'cc_post-opproblem', 'cc_psychiatricevaluation', 'cc_psychoticsymptoms', 'cc_rapidheartrate', 'cc_rash', 'cc_rectalbleeding', 'cc_rectalpain', 'cc_respiratorydistress', 'cc_ribinjury', 'cc_ribpain', 'cc_seizure-newonset', 'cc_seizure-priorhxof', 'cc_seizures', 'cc_shortnessofbreath', 'cc_shoulderinjury', 'cc_shoulderpain', 'cc_sicklecellpain', 'cc_sinusproblem', 'cc_skinirritation', 'cc_skinproblem', 'cc_sorethroat', 'cc_stdcheck', 'cc_strokealert', 'cc_suicidal', 'cc_suture/stapleremoval', 'cc_swallowedforeignbody', 'cc_syncope', 'cc_tachycardia', 'cc_testiclepain', 'cc_thumbinjury', 'cc_tickremoval', 'cc_toeinjury', 'cc_toepain', 'cc_trauma', 'cc_unresponsive', 'cc_uri', 'cc_urinaryfrequency', 'cc_urinaryretention', 'cc_urinarytractinfection', 'cc_vaginalbleeding', 'cc_vaginaldischarge', 'cc_vaginalpain', 'cc_weakness', 'cc_wheezing', 'cc_withdrawal-alcohol', 'cc_woundcheck', 'cc_woundinfection', 'cc_woundre-evaluation', 'cc_wristinjury', 'cc_wristpain']\n"
        }
      ],
      "execution_count": 9,
      "metadata": {
        "jupyter": {
          "source_hidden": false,
          "outputs_hidden": false
        },
        "nteract": {
          "transient": {
            "deleting": false
          }
        },
        "gather": {
          "logged": 1718042201981
        }
      }
    },
    {
      "cell_type": "code",
      "source": [
        "changeMaxToOne = ['triage_vital_o2_device', 'cc_abdominalcramping', 'cc_abdominaldistention', 'cc_abdominalpain', 'cc_abdominalpainpregnant', 'cc_abnormallab', 'cc_abscess', 'cc_addictionproblem', 'cc_agitation', 'cc_alcoholintoxication', 'cc_alcoholproblem', 'cc_allergicreaction', 'cc_alteredmentalstatus', 'cc_animalbite', 'cc_ankleinjury', 'cc_anklepain', 'cc_anxiety', 'cc_arminjury', 'cc_armpain', 'cc_armswelling', 'cc_assaultvictim', 'cc_asthma', 'cc_backpain', 'cc_bleeding/bruising', 'cc_blurredvision', 'cc_bodyfluidexposure', 'cc_breastpain', 'cc_breathingdifficulty', 'cc_breathingproblem', 'cc_burn', 'cc_cardiacarrest', 'cc_cellulitis', 'cc_chestpain', 'cc_chesttightness', 'cc_chills', 'cc_coldlikesymptoms', 'cc_confusion', 'cc_conjunctivitis', 'cc_constipation', 'cc_cough', 'cc_cyst', 'cc_decreasedbloodsugar-symptomatic', 'cc_dehydration', 'cc_dentalpain', 'cc_depression', 'cc_detoxevaluation', 'cc_diarrhea', 'cc_dizziness', 'cc_drug/alcoholassessment', 'cc_drugproblem', 'cc_dyspnea', 'cc_dysuria', 'cc_earpain', 'cc_earproblem', 'cc_edema', 'cc_elbowpain', 'cc_elevatedbloodsugar-nosymptoms', 'cc_elevatedbloodsugar-symptomatic', 'cc_emesis', 'cc_epigastricpain', 'cc_epistaxis', 'cc_exposuretostd', 'cc_extremitylaceration', 'cc_extremityweakness', 'cc_eyeinjury', 'cc_eyepain', 'cc_eyeproblem', 'cc_eyeredness', 'cc_facialinjury', 'cc_faciallaceration', 'cc_facialpain', 'cc_facialswelling', 'cc_fall', 'cc_fall>65', 'cc_fatigue', 'cc_femaleguproblem', 'cc_fever', 'cc_fever-75yearsorolder', 'cc_fever-9weeksto74years', 'cc_feverimmunocompromised', 'cc_fingerinjury', 'cc_fingerpain', 'cc_fingerswelling', 'cc_flankpain', 'cc_follow-upcellulitis', 'cc_footinjury', 'cc_footpain', 'cc_footswelling', 'cc_foreignbodyineye', 'cc_fulltrauma', 'cc_generalizedbodyaches', 'cc_gibleeding', 'cc_giproblem', 'cc_groinpain', 'cc_hallucinations', 'cc_handinjury', 'cc_handpain', 'cc_headache', 'cc_headache-newonsetornewsymptoms', 'cc_headache-recurrentorknowndxmigraines', 'cc_headachere-evaluation', 'cc_headinjury', 'cc_headlaceration', 'cc_hematuria', 'cc_hemoptysis', 'cc_hippain', 'cc_homicidal', 'cc_hyperglycemia', 'cc_hypertension', 'cc_hypotension', 'cc_influenza', 'cc_ingestion', 'cc_insectbite', 'cc_irregularheartbeat', 'cc_jawpain', 'cc_jointswelling', 'cc_kneeinjury', 'cc_kneepain', 'cc_laceration', 'cc_leginjury', 'cc_legpain', 'cc_legswelling', 'cc_lethargy', 'cc_lossofconsciousness', 'cc_maleguproblem', 'cc_mass', 'cc_medicalproblem', 'cc_medicalscreening', 'cc_medicationproblem', 'cc_medicationrefill', 'cc_migraine', 'cc_modifiedtrauma', 'cc_motorcyclecrash', 'cc_motorvehiclecrash', 'cc_multiplefalls', 'cc_nasalcongestion', 'cc_nausea', 'cc_nearsyncope', 'cc_neckpain', 'cc_neurologicproblem', 'cc_numbness', 'cc_oralswelling', 'cc_otalgia', 'cc_other', 'cc_overdose-accidental', 'cc_overdose-intentional', 'cc_pain', 'cc_palpitations', 'cc_panicattack', 'cc_pelvicpain', 'cc_poisoning', 'cc_post-opproblem', 'cc_psychiatricevaluation', 'cc_psychoticsymptoms', 'cc_rapidheartrate', 'cc_rash', 'cc_rectalbleeding', 'cc_rectalpain', 'cc_respiratorydistress', 'cc_ribinjury', 'cc_ribpain', 'cc_seizure-newonset', 'cc_seizure-priorhxof', 'cc_seizures', 'cc_shortnessofbreath', 'cc_shoulderinjury', 'cc_shoulderpain', 'cc_sicklecellpain', 'cc_sinusproblem', 'cc_skinirritation', 'cc_skinproblem', 'cc_sorethroat', 'cc_stdcheck', 'cc_strokealert', 'cc_suicidal', 'cc_suture/stapleremoval', 'cc_swallowedforeignbody', 'cc_syncope', 'cc_tachycardia', 'cc_testiclepain', 'cc_thumbinjury', 'cc_tickremoval', 'cc_toeinjury', 'cc_toepain', 'cc_trauma', 'cc_unresponsive', 'cc_uri', 'cc_urinaryfrequency', 'cc_urinaryretention', 'cc_urinarytractinfection', 'cc_vaginalbleeding', 'cc_vaginaldischarge', 'cc_vaginalpain', 'cc_weakness', 'cc_wheezing', 'cc_withdrawal-alcohol', 'cc_woundcheck', 'cc_woundinfection', 'cc_woundre-evaluation', 'cc_wristinjury', 'cc_wristpain']\n",
        "\n",
        "new_df[changeMaxToOne] = new_df[changeMaxToOne].clip(upper=1)"
      ],
      "outputs": [],
      "execution_count": 10,
      "metadata": {
        "jupyter": {
          "source_hidden": false,
          "outputs_hidden": false
        },
        "nteract": {
          "transient": {
            "deleting": false
          }
        },
        "gather": {
          "logged": 1718042202298
        }
      }
    },
    {
      "cell_type": "code",
      "source": [
        "def one_hot_encoder(dataframe, categorical_columns, nan_as_category=False):\n",
        "    original_columns = list(dataframe.columns)\n",
        "    dataframe = pd.get_dummies(dataframe, columns=categorical_columns,\n",
        "                               dummy_na=nan_as_category, drop_first=True , dtype=int)\n",
        "    new_columns = [col for col in dataframe.columns if col not in original_columns]\n",
        "    return dataframe, new_columns\n",
        "    \n",
        "new_df, one_hot_encodeds = one_hot_encoder(new_df, cols_need_scale)"
      ],
      "outputs": [],
      "execution_count": 11,
      "metadata": {
        "jupyter": {
          "source_hidden": false,
          "outputs_hidden": false
        },
        "nteract": {
          "transient": {
            "deleting": false
          }
        },
        "gather": {
          "logged": 1718042203460
        }
      }
    },
    {
      "cell_type": "markdown",
      "source": [
        "# Without Robust Scaler"
      ],
      "metadata": {
        "nteract": {
          "transient": {
            "deleting": false
          }
        }
      }
    },
    {
      "cell_type": "code",
      "source": [
        "X = new_df.drop('esi', axis=1)\n",
        "y = np.ravel(new_df[['esi']])"
      ],
      "outputs": [],
      "execution_count": 12,
      "metadata": {
        "jupyter": {
          "source_hidden": false,
          "outputs_hidden": false
        },
        "nteract": {
          "transient": {
            "deleting": false
          }
        },
        "gather": {
          "logged": 1718042203901
        }
      }
    },
    {
      "cell_type": "code",
      "source": [
        "for idx, col in enumerate(X.columns):\n",
        "    print(f\"Index: {idx}, Column Name: {col}\")"
      ],
      "outputs": [
        {
          "output_type": "stream",
          "name": "stdout",
          "text": "Index: 0, Column Name: age\nIndex: 1, Column Name: triage_vital_hr\nIndex: 2, Column Name: triage_vital_sbp\nIndex: 3, Column Name: triage_vital_dbp\nIndex: 4, Column Name: triage_vital_rr\nIndex: 5, Column Name: triage_vital_o2\nIndex: 6, Column Name: triage_vital_temp\nIndex: 7, Column Name: gender_Male\nIndex: 8, Column Name: triage_vital_o2_device_1.0\nIndex: 9, Column Name: cc_abdominalcramping_1.0\nIndex: 10, Column Name: cc_abdominaldistention_1.0\nIndex: 11, Column Name: cc_abdominalpain_1.0\nIndex: 12, Column Name: cc_abdominalpainpregnant_1.0\nIndex: 13, Column Name: cc_abnormallab_1.0\nIndex: 14, Column Name: cc_abscess_1.0\nIndex: 15, Column Name: cc_addictionproblem_1.0\nIndex: 16, Column Name: cc_agitation_1.0\nIndex: 17, Column Name: cc_alcoholintoxication_1.0\nIndex: 18, Column Name: cc_alcoholproblem_1.0\nIndex: 19, Column Name: cc_allergicreaction_1.0\nIndex: 20, Column Name: cc_alteredmentalstatus_1.0\nIndex: 21, Column Name: cc_animalbite_1.0\nIndex: 22, Column Name: cc_ankleinjury_1.0\nIndex: 23, Column Name: cc_anklepain_1.0\nIndex: 24, Column Name: cc_anxiety_1.0\nIndex: 25, Column Name: cc_arminjury_1.0\nIndex: 26, Column Name: cc_armpain_1.0\nIndex: 27, Column Name: cc_armswelling_1.0\nIndex: 28, Column Name: cc_assaultvictim_1.0\nIndex: 29, Column Name: cc_asthma_1.0\nIndex: 30, Column Name: cc_backpain_1.0\nIndex: 31, Column Name: cc_bleeding/bruising_1.0\nIndex: 32, Column Name: cc_blurredvision_1.0\nIndex: 33, Column Name: cc_bodyfluidexposure_1.0\nIndex: 34, Column Name: cc_breastpain_1.0\nIndex: 35, Column Name: cc_breathingdifficulty_1.0\nIndex: 36, Column Name: cc_breathingproblem_1.0\nIndex: 37, Column Name: cc_burn_1.0\nIndex: 38, Column Name: cc_cardiacarrest_1.0\nIndex: 39, Column Name: cc_cellulitis_1.0\nIndex: 40, Column Name: cc_chestpain_1.0\nIndex: 41, Column Name: cc_chesttightness_1.0\nIndex: 42, Column Name: cc_chills_1.0\nIndex: 43, Column Name: cc_coldlikesymptoms_1.0\nIndex: 44, Column Name: cc_confusion_1.0\nIndex: 45, Column Name: cc_conjunctivitis_1.0\nIndex: 46, Column Name: cc_constipation_1.0\nIndex: 47, Column Name: cc_cough_1.0\nIndex: 48, Column Name: cc_cyst_1.0\nIndex: 49, Column Name: cc_decreasedbloodsugar-symptomatic_1.0\nIndex: 50, Column Name: cc_dehydration_1.0\nIndex: 51, Column Name: cc_dentalpain_1.0\nIndex: 52, Column Name: cc_depression_1.0\nIndex: 53, Column Name: cc_detoxevaluation_1.0\nIndex: 54, Column Name: cc_diarrhea_1.0\nIndex: 55, Column Name: cc_dizziness_1.0\nIndex: 56, Column Name: cc_drug/alcoholassessment_1.0\nIndex: 57, Column Name: cc_drugproblem_1.0\nIndex: 58, Column Name: cc_dyspnea_1.0\nIndex: 59, Column Name: cc_dysuria_1.0\nIndex: 60, Column Name: cc_earpain_1.0\nIndex: 61, Column Name: cc_earproblem_1.0\nIndex: 62, Column Name: cc_edema_1.0\nIndex: 63, Column Name: cc_elbowpain_1.0\nIndex: 64, Column Name: cc_elevatedbloodsugar-nosymptoms_1.0\nIndex: 65, Column Name: cc_elevatedbloodsugar-symptomatic_1.0\nIndex: 66, Column Name: cc_emesis_1.0\nIndex: 67, Column Name: cc_epigastricpain_1.0\nIndex: 68, Column Name: cc_epistaxis_1.0\nIndex: 69, Column Name: cc_exposuretostd_1.0\nIndex: 70, Column Name: cc_extremitylaceration_1.0\nIndex: 71, Column Name: cc_extremityweakness_1.0\nIndex: 72, Column Name: cc_eyeinjury_1.0\nIndex: 73, Column Name: cc_eyepain_1.0\nIndex: 74, Column Name: cc_eyeproblem_1.0\nIndex: 75, Column Name: cc_eyeredness_1.0\nIndex: 76, Column Name: cc_facialinjury_1.0\nIndex: 77, Column Name: cc_faciallaceration_1.0\nIndex: 78, Column Name: cc_facialpain_1.0\nIndex: 79, Column Name: cc_facialswelling_1.0\nIndex: 80, Column Name: cc_fall_1.0\nIndex: 81, Column Name: cc_fall>65_1.0\nIndex: 82, Column Name: cc_fatigue_1.0\nIndex: 83, Column Name: cc_femaleguproblem_1.0\nIndex: 84, Column Name: cc_fever_1.0\nIndex: 85, Column Name: cc_fever-75yearsorolder_1.0\nIndex: 86, Column Name: cc_fever-9weeksto74years_1.0\nIndex: 87, Column Name: cc_feverimmunocompromised_1.0\nIndex: 88, Column Name: cc_fingerinjury_1.0\nIndex: 89, Column Name: cc_fingerpain_1.0\nIndex: 90, Column Name: cc_fingerswelling_1.0\nIndex: 91, Column Name: cc_flankpain_1.0\nIndex: 92, Column Name: cc_follow-upcellulitis_1.0\nIndex: 93, Column Name: cc_footinjury_1.0\nIndex: 94, Column Name: cc_footpain_1.0\nIndex: 95, Column Name: cc_footswelling_1.0\nIndex: 96, Column Name: cc_foreignbodyineye_1.0\nIndex: 97, Column Name: cc_fulltrauma_1.0\nIndex: 98, Column Name: cc_generalizedbodyaches_1.0\nIndex: 99, Column Name: cc_gibleeding_1.0\nIndex: 100, Column Name: cc_giproblem_1.0\nIndex: 101, Column Name: cc_groinpain_1.0\nIndex: 102, Column Name: cc_hallucinations_1.0\nIndex: 103, Column Name: cc_handinjury_1.0\nIndex: 104, Column Name: cc_handpain_1.0\nIndex: 105, Column Name: cc_headache_1.0\nIndex: 106, Column Name: cc_headache-newonsetornewsymptoms_1.0\nIndex: 107, Column Name: cc_headache-recurrentorknowndxmigraines_1.0\nIndex: 108, Column Name: cc_headachere-evaluation_1.0\nIndex: 109, Column Name: cc_headinjury_1.0\nIndex: 110, Column Name: cc_headlaceration_1.0\nIndex: 111, Column Name: cc_hematuria_1.0\nIndex: 112, Column Name: cc_hemoptysis_1.0\nIndex: 113, Column Name: cc_hippain_1.0\nIndex: 114, Column Name: cc_homicidal_1.0\nIndex: 115, Column Name: cc_hyperglycemia_1.0\nIndex: 116, Column Name: cc_hypertension_1.0\nIndex: 117, Column Name: cc_hypotension_1.0\nIndex: 118, Column Name: cc_influenza_1.0\nIndex: 119, Column Name: cc_ingestion_1.0\nIndex: 120, Column Name: cc_insectbite_1.0\nIndex: 121, Column Name: cc_irregularheartbeat_1.0\nIndex: 122, Column Name: cc_jawpain_1.0\nIndex: 123, Column Name: cc_jointswelling_1.0\nIndex: 124, Column Name: cc_kneeinjury_1.0\nIndex: 125, Column Name: cc_kneepain_1.0\nIndex: 126, Column Name: cc_laceration_1.0\nIndex: 127, Column Name: cc_leginjury_1.0\nIndex: 128, Column Name: cc_legpain_1.0\nIndex: 129, Column Name: cc_legswelling_1.0\nIndex: 130, Column Name: cc_lethargy_1.0\nIndex: 131, Column Name: cc_lossofconsciousness_1.0\nIndex: 132, Column Name: cc_maleguproblem_1.0\nIndex: 133, Column Name: cc_mass_1.0\nIndex: 134, Column Name: cc_medicalproblem_1.0\nIndex: 135, Column Name: cc_medicalscreening_1.0\nIndex: 136, Column Name: cc_medicationproblem_1.0\nIndex: 137, Column Name: cc_medicationrefill_1.0\nIndex: 138, Column Name: cc_migraine_1.0\nIndex: 139, Column Name: cc_modifiedtrauma_1.0\nIndex: 140, Column Name: cc_motorcyclecrash_1.0\nIndex: 141, Column Name: cc_motorvehiclecrash_1.0\nIndex: 142, Column Name: cc_multiplefalls_1.0\nIndex: 143, Column Name: cc_nasalcongestion_1.0\nIndex: 144, Column Name: cc_nausea_1.0\nIndex: 145, Column Name: cc_nearsyncope_1.0\nIndex: 146, Column Name: cc_neckpain_1.0\nIndex: 147, Column Name: cc_neurologicproblem_1.0\nIndex: 148, Column Name: cc_numbness_1.0\nIndex: 149, Column Name: cc_oralswelling_1.0\nIndex: 150, Column Name: cc_otalgia_1.0\nIndex: 151, Column Name: cc_other_1.0\nIndex: 152, Column Name: cc_overdose-accidental_1.0\nIndex: 153, Column Name: cc_overdose-intentional_1.0\nIndex: 154, Column Name: cc_pain_1.0\nIndex: 155, Column Name: cc_palpitations_1.0\nIndex: 156, Column Name: cc_panicattack_1.0\nIndex: 157, Column Name: cc_pelvicpain_1.0\nIndex: 158, Column Name: cc_poisoning_1.0\nIndex: 159, Column Name: cc_post-opproblem_1.0\nIndex: 160, Column Name: cc_psychiatricevaluation_1.0\nIndex: 161, Column Name: cc_psychoticsymptoms_1.0\nIndex: 162, Column Name: cc_rapidheartrate_1.0\nIndex: 163, Column Name: cc_rash_1.0\nIndex: 164, Column Name: cc_rectalbleeding_1.0\nIndex: 165, Column Name: cc_rectalpain_1.0\nIndex: 166, Column Name: cc_respiratorydistress_1.0\nIndex: 167, Column Name: cc_ribinjury_1.0\nIndex: 168, Column Name: cc_ribpain_1.0\nIndex: 169, Column Name: cc_seizure-newonset_1.0\nIndex: 170, Column Name: cc_seizure-priorhxof_1.0\nIndex: 171, Column Name: cc_seizures_1.0\nIndex: 172, Column Name: cc_shortnessofbreath_1.0\nIndex: 173, Column Name: cc_shoulderinjury_1.0\nIndex: 174, Column Name: cc_shoulderpain_1.0\nIndex: 175, Column Name: cc_sicklecellpain_1.0\nIndex: 176, Column Name: cc_sinusproblem_1.0\nIndex: 177, Column Name: cc_skinirritation_1.0\nIndex: 178, Column Name: cc_skinproblem_1.0\nIndex: 179, Column Name: cc_sorethroat_1.0\nIndex: 180, Column Name: cc_stdcheck_1.0\nIndex: 181, Column Name: cc_strokealert_1.0\nIndex: 182, Column Name: cc_suicidal_1.0\nIndex: 183, Column Name: cc_suture/stapleremoval_1.0\nIndex: 184, Column Name: cc_swallowedforeignbody_1.0\nIndex: 185, Column Name: cc_syncope_1.0\nIndex: 186, Column Name: cc_tachycardia_1.0\nIndex: 187, Column Name: cc_testiclepain_1.0\nIndex: 188, Column Name: cc_thumbinjury_1.0\nIndex: 189, Column Name: cc_tickremoval_1.0\nIndex: 190, Column Name: cc_toeinjury_1.0\nIndex: 191, Column Name: cc_toepain_1.0\nIndex: 192, Column Name: cc_trauma_1.0\nIndex: 193, Column Name: cc_unresponsive_1.0\nIndex: 194, Column Name: cc_uri_1.0\nIndex: 195, Column Name: cc_urinaryfrequency_1.0\nIndex: 196, Column Name: cc_urinaryretention_1.0\nIndex: 197, Column Name: cc_urinarytractinfection_1.0\nIndex: 198, Column Name: cc_vaginalbleeding_1.0\nIndex: 199, Column Name: cc_vaginaldischarge_1.0\nIndex: 200, Column Name: cc_vaginalpain_1.0\nIndex: 201, Column Name: cc_weakness_1.0\nIndex: 202, Column Name: cc_wheezing_1.0\nIndex: 203, Column Name: cc_withdrawal-alcohol_1.0\nIndex: 204, Column Name: cc_woundcheck_1.0\nIndex: 205, Column Name: cc_woundinfection_1.0\nIndex: 206, Column Name: cc_woundre-evaluation_1.0\nIndex: 207, Column Name: cc_wristinjury_1.0\nIndex: 208, Column Name: cc_wristpain_1.0\n"
        }
      ],
      "execution_count": 13,
      "metadata": {
        "jupyter": {
          "source_hidden": false,
          "outputs_hidden": false
        },
        "nteract": {
          "transient": {
            "deleting": false
          }
        },
        "gather": {
          "logged": 1718042204063
        }
      }
    },
    {
      "cell_type": "code",
      "source": [
        "categorical_features = list(range(7, 209))\n",
        "print(categorical_features)"
      ],
      "outputs": [
        {
          "output_type": "stream",
          "name": "stdout",
          "text": "[7, 8, 9, 10, 11, 12, 13, 14, 15, 16, 17, 18, 19, 20, 21, 22, 23, 24, 25, 26, 27, 28, 29, 30, 31, 32, 33, 34, 35, 36, 37, 38, 39, 40, 41, 42, 43, 44, 45, 46, 47, 48, 49, 50, 51, 52, 53, 54, 55, 56, 57, 58, 59, 60, 61, 62, 63, 64, 65, 66, 67, 68, 69, 70, 71, 72, 73, 74, 75, 76, 77, 78, 79, 80, 81, 82, 83, 84, 85, 86, 87, 88, 89, 90, 91, 92, 93, 94, 95, 96, 97, 98, 99, 100, 101, 102, 103, 104, 105, 106, 107, 108, 109, 110, 111, 112, 113, 114, 115, 116, 117, 118, 119, 120, 121, 122, 123, 124, 125, 126, 127, 128, 129, 130, 131, 132, 133, 134, 135, 136, 137, 138, 139, 140, 141, 142, 143, 144, 145, 146, 147, 148, 149, 150, 151, 152, 153, 154, 155, 156, 157, 158, 159, 160, 161, 162, 163, 164, 165, 166, 167, 168, 169, 170, 171, 172, 173, 174, 175, 176, 177, 178, 179, 180, 181, 182, 183, 184, 185, 186, 187, 188, 189, 190, 191, 192, 193, 194, 195, 196, 197, 198, 199, 200, 201, 202, 203, 204, 205, 206, 207, 208]\n"
        }
      ],
      "execution_count": 14,
      "metadata": {
        "jupyter": {
          "source_hidden": false,
          "outputs_hidden": false
        },
        "nteract": {
          "transient": {
            "deleting": false
          }
        },
        "gather": {
          "logged": 1718042204213
        }
      }
    },
    {
      "cell_type": "code",
      "source": [
        "X.sample(10)"
      ],
      "outputs": [
        {
          "output_type": "execute_result",
          "execution_count": 15,
          "data": {
            "text/plain": "         age  triage_vital_hr  triage_vital_sbp  triage_vital_dbp  \\\n287483  61.0             92.0             138.0              80.0   \n325387  61.0             64.0             178.0              95.0   \n270999  24.0             62.0             109.0              55.0   \n232121  46.0             77.0             126.0              88.0   \n312057  67.0             89.0             157.0              93.0   \n193799  57.0             60.0             164.0             113.0   \n225989  77.0             76.0             126.5              70.5   \n506905  49.0             98.0             167.0             108.0   \n490170  22.0             92.0             115.0              76.0   \n52618   44.0            112.0              97.0              50.0   \n\n        triage_vital_rr  triage_vital_o2  triage_vital_temp  gender_Male  \\\n287483             18.0             99.0               97.9            1   \n325387             17.0             98.0               97.5            0   \n270999             18.0             99.0               98.1            0   \n232121             16.0             97.0               97.3            1   \n312057             17.0             97.5               97.0            1   \n193799             20.0             98.0               98.2            1   \n225989             18.0             95.5               98.1            1   \n506905             16.0             98.0               98.1            1   \n490170             18.0             99.0               98.8            0   \n52618              22.0             94.0               98.7            0   \n\n        triage_vital_o2_device_1.0  cc_abdominalcramping_1.0  ...  \\\n287483                           0                         0  ...   \n325387                           0                         0  ...   \n270999                           0                         0  ...   \n232121                           0                         0  ...   \n312057                           0                         0  ...   \n193799                           0                         0  ...   \n225989                           0                         0  ...   \n506905                           0                         0  ...   \n490170                           0                         0  ...   \n52618                            1                         0  ...   \n\n        cc_vaginaldischarge_1.0  cc_vaginalpain_1.0  cc_weakness_1.0  \\\n287483                        0                   0                0   \n325387                        0                   0                0   \n270999                        0                   0                0   \n232121                        0                   0                0   \n312057                        0                   0                0   \n193799                        0                   0                0   \n225989                        0                   0                0   \n506905                        0                   0                0   \n490170                        0                   0                0   \n52618                         0                   0                0   \n\n        cc_wheezing_1.0  cc_withdrawal-alcohol_1.0  cc_woundcheck_1.0  \\\n287483                0                          0                  1   \n325387                0                          0                  0   \n270999                0                          0                  0   \n232121                0                          0                  0   \n312057                0                          0                  0   \n193799                0                          0                  0   \n225989                0                          0                  0   \n506905                0                          0                  0   \n490170                0                          0                  0   \n52618                 0                          0                  0   \n\n        cc_woundinfection_1.0  cc_woundre-evaluation_1.0  cc_wristinjury_1.0  \\\n287483                      0                          0                   0   \n325387                      0                          0                   0   \n270999                      0                          0                   0   \n232121                      0                          0                   0   \n312057                      0                          0                   0   \n193799                      0                          0                   0   \n225989                      0                          0                   0   \n506905                      0                          0                   0   \n490170                      0                          0                   0   \n52618                       0                          0                   0   \n\n        cc_wristpain_1.0  \n287483                 0  \n325387                 0  \n270999                 0  \n232121                 0  \n312057                 0  \n193799                 0  \n225989                 0  \n506905                 0  \n490170                 0  \n52618                  0  \n\n[10 rows x 209 columns]",
            "text/html": "<div>\n<style scoped>\n    .dataframe tbody tr th:only-of-type {\n        vertical-align: middle;\n    }\n\n    .dataframe tbody tr th {\n        vertical-align: top;\n    }\n\n    .dataframe thead th {\n        text-align: right;\n    }\n</style>\n<table border=\"1\" class=\"dataframe\">\n  <thead>\n    <tr style=\"text-align: right;\">\n      <th></th>\n      <th>age</th>\n      <th>triage_vital_hr</th>\n      <th>triage_vital_sbp</th>\n      <th>triage_vital_dbp</th>\n      <th>triage_vital_rr</th>\n      <th>triage_vital_o2</th>\n      <th>triage_vital_temp</th>\n      <th>gender_Male</th>\n      <th>triage_vital_o2_device_1.0</th>\n      <th>cc_abdominalcramping_1.0</th>\n      <th>...</th>\n      <th>cc_vaginaldischarge_1.0</th>\n      <th>cc_vaginalpain_1.0</th>\n      <th>cc_weakness_1.0</th>\n      <th>cc_wheezing_1.0</th>\n      <th>cc_withdrawal-alcohol_1.0</th>\n      <th>cc_woundcheck_1.0</th>\n      <th>cc_woundinfection_1.0</th>\n      <th>cc_woundre-evaluation_1.0</th>\n      <th>cc_wristinjury_1.0</th>\n      <th>cc_wristpain_1.0</th>\n    </tr>\n  </thead>\n  <tbody>\n    <tr>\n      <th>287483</th>\n      <td>61.0</td>\n      <td>92.0</td>\n      <td>138.0</td>\n      <td>80.0</td>\n      <td>18.0</td>\n      <td>99.0</td>\n      <td>97.9</td>\n      <td>1</td>\n      <td>0</td>\n      <td>0</td>\n      <td>...</td>\n      <td>0</td>\n      <td>0</td>\n      <td>0</td>\n      <td>0</td>\n      <td>0</td>\n      <td>1</td>\n      <td>0</td>\n      <td>0</td>\n      <td>0</td>\n      <td>0</td>\n    </tr>\n    <tr>\n      <th>325387</th>\n      <td>61.0</td>\n      <td>64.0</td>\n      <td>178.0</td>\n      <td>95.0</td>\n      <td>17.0</td>\n      <td>98.0</td>\n      <td>97.5</td>\n      <td>0</td>\n      <td>0</td>\n      <td>0</td>\n      <td>...</td>\n      <td>0</td>\n      <td>0</td>\n      <td>0</td>\n      <td>0</td>\n      <td>0</td>\n      <td>0</td>\n      <td>0</td>\n      <td>0</td>\n      <td>0</td>\n      <td>0</td>\n    </tr>\n    <tr>\n      <th>270999</th>\n      <td>24.0</td>\n      <td>62.0</td>\n      <td>109.0</td>\n      <td>55.0</td>\n      <td>18.0</td>\n      <td>99.0</td>\n      <td>98.1</td>\n      <td>0</td>\n      <td>0</td>\n      <td>0</td>\n      <td>...</td>\n      <td>0</td>\n      <td>0</td>\n      <td>0</td>\n      <td>0</td>\n      <td>0</td>\n      <td>0</td>\n      <td>0</td>\n      <td>0</td>\n      <td>0</td>\n      <td>0</td>\n    </tr>\n    <tr>\n      <th>232121</th>\n      <td>46.0</td>\n      <td>77.0</td>\n      <td>126.0</td>\n      <td>88.0</td>\n      <td>16.0</td>\n      <td>97.0</td>\n      <td>97.3</td>\n      <td>1</td>\n      <td>0</td>\n      <td>0</td>\n      <td>...</td>\n      <td>0</td>\n      <td>0</td>\n      <td>0</td>\n      <td>0</td>\n      <td>0</td>\n      <td>0</td>\n      <td>0</td>\n      <td>0</td>\n      <td>0</td>\n      <td>0</td>\n    </tr>\n    <tr>\n      <th>312057</th>\n      <td>67.0</td>\n      <td>89.0</td>\n      <td>157.0</td>\n      <td>93.0</td>\n      <td>17.0</td>\n      <td>97.5</td>\n      <td>97.0</td>\n      <td>1</td>\n      <td>0</td>\n      <td>0</td>\n      <td>...</td>\n      <td>0</td>\n      <td>0</td>\n      <td>0</td>\n      <td>0</td>\n      <td>0</td>\n      <td>0</td>\n      <td>0</td>\n      <td>0</td>\n      <td>0</td>\n      <td>0</td>\n    </tr>\n    <tr>\n      <th>193799</th>\n      <td>57.0</td>\n      <td>60.0</td>\n      <td>164.0</td>\n      <td>113.0</td>\n      <td>20.0</td>\n      <td>98.0</td>\n      <td>98.2</td>\n      <td>1</td>\n      <td>0</td>\n      <td>0</td>\n      <td>...</td>\n      <td>0</td>\n      <td>0</td>\n      <td>0</td>\n      <td>0</td>\n      <td>0</td>\n      <td>0</td>\n      <td>0</td>\n      <td>0</td>\n      <td>0</td>\n      <td>0</td>\n    </tr>\n    <tr>\n      <th>225989</th>\n      <td>77.0</td>\n      <td>76.0</td>\n      <td>126.5</td>\n      <td>70.5</td>\n      <td>18.0</td>\n      <td>95.5</td>\n      <td>98.1</td>\n      <td>1</td>\n      <td>0</td>\n      <td>0</td>\n      <td>...</td>\n      <td>0</td>\n      <td>0</td>\n      <td>0</td>\n      <td>0</td>\n      <td>0</td>\n      <td>0</td>\n      <td>0</td>\n      <td>0</td>\n      <td>0</td>\n      <td>0</td>\n    </tr>\n    <tr>\n      <th>506905</th>\n      <td>49.0</td>\n      <td>98.0</td>\n      <td>167.0</td>\n      <td>108.0</td>\n      <td>16.0</td>\n      <td>98.0</td>\n      <td>98.1</td>\n      <td>1</td>\n      <td>0</td>\n      <td>0</td>\n      <td>...</td>\n      <td>0</td>\n      <td>0</td>\n      <td>0</td>\n      <td>0</td>\n      <td>0</td>\n      <td>0</td>\n      <td>0</td>\n      <td>0</td>\n      <td>0</td>\n      <td>0</td>\n    </tr>\n    <tr>\n      <th>490170</th>\n      <td>22.0</td>\n      <td>92.0</td>\n      <td>115.0</td>\n      <td>76.0</td>\n      <td>18.0</td>\n      <td>99.0</td>\n      <td>98.8</td>\n      <td>0</td>\n      <td>0</td>\n      <td>0</td>\n      <td>...</td>\n      <td>0</td>\n      <td>0</td>\n      <td>0</td>\n      <td>0</td>\n      <td>0</td>\n      <td>0</td>\n      <td>0</td>\n      <td>0</td>\n      <td>0</td>\n      <td>0</td>\n    </tr>\n    <tr>\n      <th>52618</th>\n      <td>44.0</td>\n      <td>112.0</td>\n      <td>97.0</td>\n      <td>50.0</td>\n      <td>22.0</td>\n      <td>94.0</td>\n      <td>98.7</td>\n      <td>0</td>\n      <td>1</td>\n      <td>0</td>\n      <td>...</td>\n      <td>0</td>\n      <td>0</td>\n      <td>0</td>\n      <td>0</td>\n      <td>0</td>\n      <td>0</td>\n      <td>0</td>\n      <td>0</td>\n      <td>0</td>\n      <td>0</td>\n    </tr>\n  </tbody>\n</table>\n<p>10 rows × 209 columns</p>\n</div>"
          },
          "metadata": {}
        }
      ],
      "execution_count": 15,
      "metadata": {
        "jupyter": {
          "source_hidden": false,
          "outputs_hidden": false
        },
        "nteract": {
          "transient": {
            "deleting": false
          }
        },
        "gather": {
          "logged": 1718042204386
        }
      }
    },
    {
      "cell_type": "code",
      "source": [
        "sm = SMOTENC(random_state=42, categorical_features=categorical_features)\n",
        "X, y = sm.fit_resample(X, y)\n",
        "\n",
        "\n",
        "X_train, X_test, y_train, y_test = train_test_split(X, y, test_size=0.10, random_state = 357)\n",
        "\n",
        "print(\"Done bang\")"
      ],
      "outputs": [],
      "execution_count": 16,
      "metadata": {
        "jupyter": {
          "source_hidden": false,
          "outputs_hidden": false
        },
        "nteract": {
          "transient": {
            "deleting": false
          }
        },
        "gather": {
          "logged": 1718039394553
        }
      }
    },
    {
      "cell_type": "code",
      "source": [
        "print(\"real bang\")"
      ],
      "outputs": [],
      "execution_count": null,
      "metadata": {
        "jupyter": {
          "source_hidden": false,
          "outputs_hidden": false
        },
        "nteract": {
          "transient": {
            "deleting": false
          }
        },
        "gather": {
          "logged": 1718040030743
        }
      }
    },
    {
      "cell_type": "code",
      "source": [
        "label_encoder = LabelEncoder()\n",
        "y_train = label_encoder.fit_transform(y_train)\n",
        "y_train = to_categorical(y_train)\n",
        "\n",
        "y_test = label_encoder.transform(y_test)\n",
        "y_test = to_categorical(y_test)"
      ],
      "outputs": [],
      "execution_count": null,
      "metadata": {
        "jupyter": {
          "source_hidden": false,
          "outputs_hidden": false
        },
        "nteract": {
          "transient": {
            "deleting": false
          }
        },
        "gather": {
          "logged": 1718040030761
        }
      }
    },
    {
      "cell_type": "code",
      "source": [
        "y_train_df = pd.DataFrame(y_train, columns=['class_0', 'class_1', 'class_2', 'class_3', 'class_4'])\n",
        "train_df = pd.concat([X_train.reset_index(drop=True), y_train_df.reset_index(drop=True)], axis=1)\n",
        "train_df.to_csv('train_data_ESI_without_robust_scaler.csv', index=False)"
      ],
      "outputs": [],
      "execution_count": null,
      "metadata": {
        "jupyter": {
          "source_hidden": false,
          "outputs_hidden": false
        },
        "nteract": {
          "transient": {
            "deleting": false
          }
        },
        "gather": {
          "logged": 1718040030783
        }
      }
    },
    {
      "cell_type": "code",
      "source": [
        "y_test_df = pd.DataFrame(y_test, columns=['class_0', 'class_1', 'class_2', 'class_3', 'class_4'])\n",
        "test_df = pd.concat([X_test.reset_index(drop=True), y_test_df.reset_index(drop=True)], axis=1)\n",
        "test_df.to_csv('test_data_ESI_without_robust_scaler.csv', index=False)"
      ],
      "outputs": [],
      "execution_count": null,
      "metadata": {
        "jupyter": {
          "source_hidden": false,
          "outputs_hidden": false
        },
        "nteract": {
          "transient": {
            "deleting": false
          }
        },
        "gather": {
          "logged": 1718040030806
        }
      }
    },
    {
      "cell_type": "markdown",
      "source": [
        "# With RobustScaler"
      ],
      "metadata": {
        "nteract": {
          "transient": {
            "deleting": false
          }
        }
      }
    },
    {
      "cell_type": "code",
      "source": [
        "X = new_df.drop('esi', axis=1)\n",
        "y = np.ravel(new_df[['esi']])"
      ],
      "outputs": [],
      "execution_count": null,
      "metadata": {
        "jupyter": {
          "source_hidden": false,
          "outputs_hidden": false
        },
        "nteract": {
          "transient": {
            "deleting": false
          }
        },
        "gather": {
          "logged": 1718040030827
        }
      }
    },
    {
      "cell_type": "code",
      "source": [
        "robustScaler = RobustScaler()\n",
        "X[like_num] = robustScaler.fit_transform(X[like_num])"
      ],
      "outputs": [],
      "execution_count": null,
      "metadata": {
        "jupyter": {
          "source_hidden": false,
          "outputs_hidden": false
        },
        "nteract": {
          "transient": {
            "deleting": false
          }
        },
        "gather": {
          "logged": 1718040030846
        }
      }
    },
    {
      "cell_type": "code",
      "source": [
        "sm = SMOTENC(random_state=42, categorical_features=categorical_features)\n",
        "X, y = sm.fit_resample(X, y)\n",
        "\n",
        "\n",
        "X_train, X_test, y_train, y_test = train_test_split(X, y, test_size=0.10, random_state = 357)\n",
        "\n",
        "print(\"Done bang\")"
      ],
      "outputs": [],
      "execution_count": null,
      "metadata": {
        "jupyter": {
          "source_hidden": false,
          "outputs_hidden": false
        },
        "nteract": {
          "transient": {
            "deleting": false
          }
        },
        "gather": {
          "logged": 1718040030870
        }
      }
    },
    {
      "cell_type": "code",
      "source": [
        "label_encoder = LabelEncoder()\n",
        "y_train = label_encoder.fit_transform(y_train)\n",
        "y_train = to_categorical(y_train)\n",
        "\n",
        "y_test = label_encoder.transform(y_test)\n",
        "y_test = to_categorical(y_test)"
      ],
      "outputs": [],
      "execution_count": null,
      "metadata": {
        "jupyter": {
          "source_hidden": false,
          "outputs_hidden": false
        },
        "nteract": {
          "transient": {
            "deleting": false
          }
        },
        "gather": {
          "logged": 1718040030896
        }
      }
    },
    {
      "cell_type": "code",
      "source": [
        "y_train_df = pd.DataFrame(y_train, columns=['class_0', 'class_1', 'class_2', 'class_3', 'class_4'])\n",
        "train_df = pd.concat([X_train.reset_index(drop=True), y_train_df.reset_index(drop=True)], axis=1)\n",
        "train_df.to_csv('train_data_ESI_with_robust_scaler.csv', index=False)"
      ],
      "outputs": [],
      "execution_count": null,
      "metadata": {
        "jupyter": {
          "source_hidden": false,
          "outputs_hidden": false
        },
        "nteract": {
          "transient": {
            "deleting": false
          }
        },
        "gather": {
          "logged": 1718040030940
        }
      }
    },
    {
      "cell_type": "code",
      "source": [
        "y_test_df = pd.DataFrame(y_test, columns=['class_0', 'class_1', 'class_2', 'class_3', 'class_4'])\n",
        "test_df = pd.concat([X_test.reset_index(drop=True), y_test_df.reset_index(drop=True)], axis=1)\n",
        "test_df.to_csv('test_data_ESI_with_robust_scaler.csv', index=False)"
      ],
      "outputs": [],
      "execution_count": null,
      "metadata": {
        "jupyter": {
          "source_hidden": false,
          "outputs_hidden": false
        },
        "nteract": {
          "transient": {
            "deleting": false
          }
        },
        "gather": {
          "logged": 1718040031062
        }
      }
    },
    {
      "cell_type": "code",
      "source": [
        "import joblib\n",
        "\n",
        "joblib.dump(label_encoder, 'label_encoder_ESI.pkl')\n",
        "joblib.dump(robustScaler, 'robust_scaler.pkl')"
      ],
      "outputs": [],
      "execution_count": null,
      "metadata": {
        "jupyter": {
          "source_hidden": false,
          "outputs_hidden": false
        },
        "nteract": {
          "transient": {
            "deleting": false
          }
        },
        "gather": {
          "logged": 1718040031135
        }
      }
    }
  ],
  "metadata": {
    "kernelspec": {
      "name": "python38-azureml",
      "language": "python",
      "display_name": "Python 3.8 - AzureML"
    },
    "language_info": {
      "name": "python",
      "version": "3.8.5",
      "mimetype": "text/x-python",
      "codemirror_mode": {
        "name": "ipython",
        "version": 3
      },
      "pygments_lexer": "ipython3",
      "nbconvert_exporter": "python",
      "file_extension": ".py"
    },
    "microsoft": {
      "ms_spell_check": {
        "ms_spell_check_language": "en"
      },
      "host": {
        "AzureML": {
          "notebookHasBeenCompleted": true
        }
      }
    },
    "kernel_info": {
      "name": "python38-azureml"
    },
    "nteract": {
      "version": "nteract-front-end@1.0.0"
    }
  },
  "nbformat": 4,
  "nbformat_minor": 2
}